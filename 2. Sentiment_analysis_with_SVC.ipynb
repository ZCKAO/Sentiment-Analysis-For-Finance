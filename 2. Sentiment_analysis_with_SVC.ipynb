{
 "cells": [
  {
   "cell_type": "markdown",
   "id": "5b56d0a3-be75-4232-a6c3-3e404d5ef859",
   "metadata": {},
   "source": [
    "# Sentiment analysis model and traning with SVC model"
   ]
  },
  {
   "cell_type": "markdown",
   "id": "739adaef-b4f1-45c1-9875-6733f217a012",
   "metadata": {},
   "source": [
    "1. 介紹4種情感模型使用方式(Baidu, Keymoji, Vader, Google)\n",
    "2. SVC 訓練為自有模型"
   ]
  },
  {
   "cell_type": "code",
   "execution_count": 1,
   "id": "0919f61e-9e13-46a1-9db3-438c77839b4c",
   "metadata": {},
   "outputs": [],
   "source": [
    "import pandas as pd\n",
    "import numpy as np\n",
    "import spacy\n",
    "import pickle\n",
    "import math\n",
    "import matplotlib.pyplot as plt\n",
    "import time\n",
    "import json\n",
    "\n",
    "from json import JSONDecodeError\n",
    "from sklearn import svm\n",
    "from sklearn.model_selection import train_test_split\n",
    "from sklearn.metrics import accuracy_score\n",
    "from sklearn import metrics\n",
    "from sklearn.metrics import classification_report\n",
    "from sklearn.preprocessing import minmax_scale"
   ]
  },
  {
   "cell_type": "markdown",
   "id": "3bdc29f9-d2dc-49da-8a7d-f4c030ae519d",
   "metadata": {},
   "source": [
    "# Load Data"
   ]
  },
  {
   "cell_type": "code",
   "execution_count": null,
   "id": "b90a073f-5086-432e-9965-cb107bc74f9e",
   "metadata": {},
   "outputs": [],
   "source": [
    "!gdown --\"https://drive.google.com/file/d/1CFn5gFSVBUk3c6DWAebjjhHWxzb_9VOQ/view?usp=sharing\""
   ]
  },
  {
   "cell_type": "code",
   "execution_count": null,
   "id": "b25a83d7-d330-460e-a217-8fa892b962dc",
   "metadata": {},
   "outputs": [],
   "source": [
    "Cynes = pd.read_csv(\"sectorDF.csv\").drop(\"Unnamed: 0\", axis = 1)"
   ]
  },
  {
   "cell_type": "markdown",
   "id": "4338125d-6275-4451-902e-3aa5d6cfaf3d",
   "metadata": {},
   "source": [
    "# Sentiment analysis API\n",
    "1. (中) Baidu from: https://ai.baidu.com/tech/nlp_apply/sentiment_classify\n",
    "2. (中) Keymoji from: https://api.droidtown.co/document/#KeyMoji_2\n",
    "3. (英) VAder from: https://github.com/cjhutto/vaderSentiment\n",
    "4. (英) Google from: https://cloud.google.com/natural-language"
   ]
  },
  {
   "cell_type": "markdown",
   "id": "5ab3757f-d4a1-4d32-b4fa-babab5e0f7f9",
   "metadata": {},
   "source": [
    "## 1. Baidu "
   ]
  },
  {
   "cell_type": "code",
   "execution_count": null,
   "id": "a4f2523e-e328-4ba5-8659-43572400b7b6",
   "metadata": {},
   "outputs": [],
   "source": [
    "APP_ID = 'your APP_ID'\n",
    "API_KEY = 'your API_KEY'\n",
    "SECRET_KEY = 'your SECRET_KEY'"
   ]
  },
  {
   "cell_type": "markdown",
   "id": "368e5211-0ce9-4edc-8c05-b5516adea4ac",
   "metadata": {},
   "source": [
    "### A. Baidu Example"
   ]
  },
  {
   "cell_type": "code",
   "execution_count": null,
   "id": "c8835f5b-ae3b-4ba5-a437-6fbca6d40831",
   "metadata": {},
   "outputs": [],
   "source": [
    "# !pip install baidu-aip"
   ]
  },
  {
   "cell_type": "code",
   "execution_count": null,
   "id": "b25e4af5-d1e8-4d51-bf12-bb407847d420",
   "metadata": {},
   "outputs": [],
   "source": [
    "from aip import AipNlp            \n",
    "\n",
    "client = AipNlp(appId = APP_ID, apiKey=API_KEY, secretKey=SECRET_KEY)\n",
    "text = \"在大數據情感分析的幫助下，能夠準確的預測股價的走勢，成功賺大錢\" \n",
    "client.sentimentClassify(text.encode('gb18030','ignore').decode('gbk','ignore'))"
   ]
  },
  {
   "cell_type": "markdown",
   "id": "13cbbdb0-10b7-47f3-8eed-02d6089bcd71",
   "metadata": {},
   "source": [
    "### B. Cynes with Baidu"
   ]
  },
  {
   "cell_type": "markdown",
   "id": "bcebccaa-a5d4-4aa1-bec8-75b3f8cf2272",
   "metadata": {},
   "source": [
    "雖然官方文檔寫最大輸入字數為2048字，但有時輸入超過1065字就爆了，有時965...每次測試不一定。因此以下為若出現 error msg，則砍掉部分字數重跑一次 API 模型"
   ]
  },
  {
   "cell_type": "code",
   "execution_count": null,
   "id": "7c5279c2-29c4-48a2-8b5e-f61313d774b0",
   "metadata": {},
   "outputs": [],
   "source": [
    "'''\n",
    "將出現錯誤訊息的'error_code', 'error_msg' 都重跑\n",
    "'''\n",
    "baiduLIST = []\n",
    "for number in range(len(Cynes[\"Content\"])):\n",
    "    try:\n",
    "        time.sleep(0.5)\n",
    "        text = Cynes[\"Content\"][number]      \n",
    "        baidu_score = client.sentimentClassify(text.encode('gb18030','ignore').decode('gbk','ignore'))\n",
    "\n",
    "        if 'error_code' in baidu_score:\n",
    "            time.sleep(0.5)\n",
    "            text = Cynes[\"Content\"][number][:1065]     ##縮短文本，重跑第一次\n",
    "            baidu_score = client.sentimentClassify(text.encode('gb18030','ignore').decode('gbk','ignore'))\n",
    "            \n",
    "            if 'error_code' in baidu_score:\n",
    "                time.sleep(0.5)\n",
    "                text = Cynes[\"Content\"][number][:965]     ##縮短文本，重跑第二次\n",
    "                baidu_score = client.sentimentClassify(text.encode('gb18030','ignore').decode('gbk','ignore'))\n",
    "            \n",
    "                if 'error_code' in baidu_score:  \n",
    "                    time.sleep(0.5)\n",
    "                    text = Cynes[\"Content\"][number][:900]\n",
    "                    baidu_score = client.sentimentClassify(text.encode('gb18030','ignore').decode('gbk','ignore'))\n",
    "                    \n",
    "                    if 'error_code' in baidu_score:               ##縮短文本，重跑第三次\n",
    "                        time.sleep(0.5)\n",
    "                        text = Cynes[\"Content\"][number][:850]\n",
    "                        baidu_score = client.sentimentClassify(text.encode('gb18030','ignore').decode('gbk','ignore'))\n",
    "                        baiduLIST.append(baidu_score)\n",
    "                        print(number, \"----error_code!!!? try again\")      ##縮短文本，考慮重跑第四次\n",
    "                    else:\n",
    "                        baiduLIST.append(baidu_score)\n",
    "                        print(number)\n",
    "                else:\n",
    "                        baiduLIST.append(baidu_score)\n",
    "                        print(number)\n",
    "            else:    \n",
    "                baiduLIST.append(baidu_score)\n",
    "                print(number)\n",
    "            \n",
    "        elif 'error_msg' in baidu_score:\n",
    "            time.sleep(0.5)\n",
    "            baidu_score = client.sentimentClassify(text.encode('gb18030','ignore').decode('gbk','ignore'))\n",
    "            baiduLIST.append(baidu_score)\n",
    "            print(number, \"----error_msg檢查看看還有事嗎\")\n",
    "        else:\n",
    "            baiduLIST.append(baidu_score)\n",
    "            print(number)\n",
    "            \n",
    "    except JSONDecodeError:\n",
    "        text = Cynes[\"Content\"][number][:1065]\n",
    "        time.sleep(2)\n",
    "        baidu_score = client.sentimentClassify(text.encode('gb18030','ignore').decode('gbk','ignore'))\n",
    "        \n",
    "        if 'error_code' in baidu_score:\n",
    "            time.sleep(2)\n",
    "            text = Cynes[\"Content\"][number][:965]\n",
    "            baidu_score = client.sentimentClassify(text.encode('gb18030','ignore').decode('gbk','ignore'))\n",
    "            baiduLIST.append(baidu_score)\n",
    "            print(number, \"----JSONDecodeError檢查看看還有事嗎\")\n",
    "        else:    \n",
    "            baiduLIST.append(baidu_score)\n",
    "            print(number)\n",
    "        \n",
    "print(\"done\")"
   ]
  },
  {
   "cell_type": "code",
   "execution_count": null,
   "id": "32940c46-73ce-4e34-ace6-393b960a4f17",
   "metadata": {},
   "outputs": [],
   "source": [
    "POS_prob = []\n",
    "NEG_prob = []\n",
    "Confidence = []\n",
    "Sentiment = []\n",
    "try:\n",
    "    for result_index in range(len(baiduLIST)):\n",
    "        POS_prob.append(baiduLIST[result_index]['items'][0]['positive_prob'])\n",
    "        NEG_prob.append(baiduLIST[result_index]['items'][0]['negative_prob'])\n",
    "        Confidence.append(baiduLIST[result_index]['items'][0]['confidence'])\n",
    "        Sentiment.append(baiduLIST[result_index]['items'][0]['sentiment'])\n",
    "except KeyError:\n",
    "    print(result_index)"
   ]
  },
  {
   "cell_type": "code",
   "execution_count": null,
   "id": "212c897b-4364-430b-9482-e9b33420190d",
   "metadata": {},
   "outputs": [],
   "source": [
    "Cynes[\"POS_prob\"] = POS_prob\n",
    "Cynes[\"NEG_prob\"] = NEG_prob\n",
    "Cynes[\"Confidence\"] = Confidence\n",
    "Cynes[\"Sentiment\"] = Sentiment"
   ]
  },
  {
   "cell_type": "code",
   "execution_count": null,
   "id": "9f195681-e905-4cfa-aed1-7853a03556be",
   "metadata": {},
   "outputs": [],
   "source": [
    "Cynes.to_csv()"
   ]
  },
  {
   "cell_type": "markdown",
   "id": "d738b525-4260-48cf-80fc-fa9af19cc1a5",
   "metadata": {},
   "source": [
    "## 2. Keymoji"
   ]
  },
  {
   "cell_type": "markdown",
   "id": "674d9dee-7631-4d92-ad06-637ebaafa092",
   "metadata": {},
   "source": [
    "### A. KeyMoji Example"
   ]
  },
  {
   "cell_type": "code",
   "execution_count": null,
   "id": "1b1c4165-5884-4693-ab70-f9c550395b91",
   "metadata": {},
   "outputs": [],
   "source": [
    "# !pip install KeyMojiAPI"
   ]
  },
  {
   "cell_type": "code",
   "execution_count": null,
   "id": "5f19c608-c3e4-4200-8d4f-0e656c42e098",
   "metadata": {},
   "outputs": [],
   "source": [
    "from KeyMojiAPI import KeyMoji\n",
    "\n",
    "keymoji = KeyMoji(username=\"你的username\", \n",
    "                  keymojiKey=\"你的keymojiKey\")"
   ]
  },
  {
   "cell_type": "code",
   "execution_count": 7,
   "id": "857b6086-7b1a-4a75-9633-3c118e997414",
   "metadata": {},
   "outputs": [],
   "source": [
    "def KeyMoji_sentiments_score(inputSTR):\n",
    "    result = keymoji.sense2(inputSTR)\n",
    "    if result[\"status\"] == True:\n",
    "        return result['results']\n",
    "    else:\n",
    "        print(result[\"msg\"])\n",
    "        return None"
   ]
  },
  {
   "cell_type": "code",
   "execution_count": 11,
   "id": "cc43a375-ad43-48ee-8086-12501ba178f9",
   "metadata": {},
   "outputs": [
    {
     "data": {
      "text/plain": [
       "{'status': True,\n",
       " 'msg': 'Success!',\n",
       " 'results': [{'score': 0.5544,\n",
       "   'sentiment': 'positive',\n",
       "   'input_str': '在大數據情感分析的幫助下',\n",
       "   'cursing': False},\n",
       "  {'score': 0.4886,\n",
       "   'sentiment': 'positive',\n",
       "   'input_str': '能夠準確的預測股價的走勢',\n",
       "   'cursing': False},\n",
       "  {'score': 0.6929,\n",
       "   'sentiment': 'positive',\n",
       "   'input_str': '成功賺大錢',\n",
       "   'cursing': False}],\n",
       " 'sense': 'sense2',\n",
       " 'version': 'v102'}"
      ]
     },
     "execution_count": 11,
     "metadata": {},
     "output_type": "execute_result"
    }
   ],
   "source": [
    "inputSTR = \"在大數據情感分析的幫助下，能夠準確的預測股價的走勢，成功賺大錢\" \n",
    "\n",
    "keymoji.sense2(inputSTR)"
   ]
  },
  {
   "cell_type": "markdown",
   "id": "c17de319-1ed9-4f0c-a858-9cc9f88c6aea",
   "metadata": {},
   "source": [
    "### B. Cynes with KeyMoji"
   ]
  },
  {
   "cell_type": "code",
   "execution_count": null,
   "id": "4c5eb0b8-bf39-446d-94af-c9dfdb793cfa",
   "metadata": {},
   "outputs": [],
   "source": [
    "Keymoji_resultLIST = []\n",
    "\n",
    "for number in range(len(Cynes[\"Content\"])):\n",
    "    time.sleep(0.5)\n",
    "    try:\n",
    "        sentiments_score = KeyMoji_sentiments_score(Cynes[\"Content\"][number])\n",
    "        Keymoji_resultLIST.append(sentiments_score)\n",
    "        print(number)\n",
    "    except TimeoutError:\n",
    "        time.sleep(3)\n",
    "        sentiments_score = KeyMoji_sentiments_score(Cynes[\"Content\"][number])\n",
    "        Keymoji_resultLIST.append(sentiments_score)\n",
    "        print(number,\"ok TimeoutError\")\n",
    "print(\"done\")"
   ]
  },
  {
   "cell_type": "code",
   "execution_count": null,
   "id": "d28472d5-fcce-44eb-a1a7-b53f5e8f14a8",
   "metadata": {},
   "outputs": [],
   "source": [
    "article_scoreLIST = []\n",
    "for article_index in range(len(Keymoji_resultLIST)):\n",
    "    sentence_scoreLIST = []\n",
    "    for sentence_index in range(len(Keymoji_resultLIST[article_index])):\n",
    "        sentence_score = Keymoji_resultLIST[article_index][sentence_index][\"score\"]\n",
    "        sentence_scoreLIST.append(sentence_score)\n",
    "    article_score = mean(sentence_scoreLIST)\n",
    "    article_scoreLIST.append(article_score)\n",
    "    \n",
    "Cynes[\"Keymoji_score\"] = [round(score,2) for score in article_scoreLIST]"
   ]
  },
  {
   "cell_type": "code",
   "execution_count": null,
   "id": "c3808ff8-42dc-4a1d-9c12-d26b049f24d2",
   "metadata": {},
   "outputs": [],
   "source": [
    "Cynes.to_csv()"
   ]
  },
  {
   "cell_type": "markdown",
   "id": "b94d3ef0-ac83-4603-9b16-575f0a2482f3",
   "metadata": {},
   "source": [
    "## 3.VAder "
   ]
  },
  {
   "cell_type": "markdown",
   "id": "c424822f-1b57-4462-8b0e-ae307e9663b8",
   "metadata": {},
   "source": [
    "### A. VAder Example"
   ]
  },
  {
   "cell_type": "code",
   "execution_count": null,
   "id": "8db6ae83-1dc9-4117-90b3-53e8c28ebe5f",
   "metadata": {},
   "outputs": [],
   "source": [
    "# !pip install vaderSentiment"
   ]
  },
  {
   "cell_type": "code",
   "execution_count": 15,
   "id": "bdba80a9-d0df-4a1a-b491-c7bcac5f239a",
   "metadata": {},
   "outputs": [],
   "source": [
    "from vaderSentiment.vaderSentiment import SentimentIntensityAnalyzer"
   ]
  },
  {
   "cell_type": "code",
   "execution_count": 18,
   "id": "d23a3e8a-03ce-49d4-a073-94e822be2e48",
   "metadata": {},
   "outputs": [
    {
     "data": {
      "text/plain": [
       "{'neg': 0.0, 'neu': 0.326, 'pos': 0.674, 'compound': 0.7351}"
      ]
     },
     "execution_count": 18,
     "metadata": {},
     "output_type": "execute_result"
    }
   ],
   "source": [
    "analyzer = SentimentIntensityAnalyzer()\n",
    "\n",
    "analyzer.polarity_scores(\"The phone is super cool.\")"
   ]
  },
  {
   "cell_type": "markdown",
   "id": "ddb134fd-99e4-4aaa-bd45-992b7e349076",
   "metadata": {},
   "source": [
    "### B. Cynes with VAder"
   ]
  },
  {
   "cell_type": "code",
   "execution_count": null,
   "id": "7352cf5a-7314-45e9-b9fc-19f70393504c",
   "metadata": {},
   "outputs": [],
   "source": [
    "Vader_resultLIST = []\n",
    "for number in range(len(Cynes[\"Content\"])):\n",
    "    score = analyzer.polarity_scores(Cynes[\"Content\"][number])\n",
    "    Vader_resultLIST.append(score)\n",
    "print(\"done\")"
   ]
  },
  {
   "cell_type": "code",
   "execution_count": null,
   "id": "c9e7f385-28e0-4c7f-9513-658c1e96371b",
   "metadata": {},
   "outputs": [],
   "source": [
    "Vader_SentimentDF = pd.DataFrame(Vader_resultLIST)\n",
    "Vader_SentimentDF"
   ]
  },
  {
   "cell_type": "code",
   "execution_count": null,
   "id": "0f0d5e05-8f4d-466c-b3cd-d114d8663da2",
   "metadata": {},
   "outputs": [],
   "source": [
    "Cynes = pd.merge(Cynes, Vader_SentimentDF,left_index=True, right_index=True)"
   ]
  },
  {
   "cell_type": "code",
   "execution_count": null,
   "id": "3f7da8d0-41b3-4a3d-ae80-61a7cfa9fb5c",
   "metadata": {},
   "outputs": [],
   "source": [
    "Cynes.to_csv()"
   ]
  },
  {
   "cell_type": "markdown",
   "id": "65718bb2-9eec-40ea-b14e-aaab1c7d5390",
   "metadata": {},
   "source": [
    "## 4. Google"
   ]
  },
  {
   "cell_type": "markdown",
   "id": "43dbff10-848f-4194-a512-7837e6e57741",
   "metadata": {},
   "source": [
    "### A. Google Example"
   ]
  },
  {
   "cell_type": "code",
   "execution_count": null,
   "id": "a04440e0-6587-428e-8911-174498390027",
   "metadata": {},
   "outputs": [],
   "source": [
    "# !pip install --upgrade google-cloud-language"
   ]
  },
  {
   "cell_type": "code",
   "execution_count": null,
   "id": "9c61f113-e840-490c-8f3a-83a8614e4692",
   "metadata": {},
   "outputs": [],
   "source": [
    "from google.cloud import language_v1\n",
    "import os\n",
    "os.environ[\"GOOGLE_APPLICATION_CREDENTIALS\"] = \"your json file\""
   ]
  },
  {
   "cell_type": "code",
   "execution_count": null,
   "id": "2bbe0cf8-ddb6-4ef8-ac1c-27a3fece3a14",
   "metadata": {},
   "outputs": [],
   "source": [
    "client = language_v1.LanguageServiceClient()\n",
    "type_ = language_v1.Document.Type.PLAIN_TEXT "
   ]
  },
  {
   "cell_type": "code",
   "execution_count": null,
   "id": "8564117b-edf8-4e5a-aad8-e728b14f8532",
   "metadata": {},
   "outputs": [],
   "source": [
    "client = language_v1.LanguageServiceClient()\n",
    "\n",
    "def extract_entities(text):\n",
    "    document = language_v1.Document(\n",
    "        content=text,\n",
    "        type_=\"PLAIN_TEXT\",\n",
    "    )\n",
    "    res_object = client.analyze_entity_sentiment(\n",
    "        document=document, \n",
    "        encoding_type=\"UTF32\",\n",
    "    )\n",
    "    return res_object.entities"
   ]
  },
  {
   "cell_type": "code",
   "execution_count": null,
   "id": "f897e1a0-7df2-4173-94a8-ba7000d26777",
   "metadata": {},
   "outputs": [],
   "source": [
    "text = \"\"\"\n",
    "  David P. Bauer, President and Chief Executive Officer of National Fuel Gas Company, stated: “National Fuel had an outstanding start to fiscal 2022, with adjusted operating results increasing 40% from the prior year, primarily driven by strong performance from our Exploration & Production business. We continued to execute on our growth plans by placing the FM100 expansion and modernization project into service in December. This project, which was completed on-time and under budget, provides significant new capacity on our FERC-regulated pipeline system which, along with Transco’s companion Leidy South project, is an important, long-term valuable outlet for the Company’s Appalachian production. Further, the project incorporated best-in-class emissions controls, including the installation of vent gas recovery systems and compressed air pneumatics, maintaining our focus on reducing the methane intensity of our operations.\n",
    "“Additionally, throughout the quarter, National Fuel continued to make significant progress on its sustainability initiatives, achieving certification of 100% of our Appalachian production under Equitable Origin’s EO100TM Standard for Responsible Energy Development. This accreditation along with our ongoing investments to achieve our emission reduction targets, positions National Fuel to differentiate its responsibly sourced production in the marketplace, including all of our volumes transported on the Leidy South project.\n",
    "“As we look forward, National Fuel’s integrated businesses are well-positioned for the future. Our unique mix of assets and the strength of our balance sheet enable us to deliver growth, while enhancing our ability to generate long-term free cash flow.”\n",
    "\"\"\"\n",
    "\n",
    "for ent in extract_entities(text):\n",
    "    print(f\"Name: {ent.name}\")\n",
    "    print(f\"Sentiment Score: {ent.sentiment.score}\")\n",
    "    print(f\"Sentiment Magnitude(強度): {ent.sentiment.magnitude}\")\n",
    "    print(\"=\"*10)"
   ]
  },
  {
   "cell_type": "markdown",
   "id": "4582dc99-1839-4aa4-b2dc-5143d536cfb2",
   "metadata": {},
   "source": [
    "### B. Cynes with Google"
   ]
  },
  {
   "cell_type": "code",
   "execution_count": null,
   "id": "679b92a6-fc15-48aa-8b50-5f3ee755e4a0",
   "metadata": {},
   "outputs": [],
   "source": [
    "scoreLIST = []\n",
    "magnitudeLIST =[]\n",
    "\n",
    "for i in range(len(Cynes[\"Content\"])):\n",
    "    time.sleep(0.5)\n",
    "    text = Cynes[\"Content\"].iloc[i]\n",
    "    \n",
    "    language = \"en\"\n",
    "    document = {\"content\": text, \"type_\": type_, \"language\": language}\n",
    "    encoding_type = language_v1.EncodingType.UTF8\n",
    "    response = client.analyze_sentiment(request = {'document': document, 'encoding_type': encoding_type})\n",
    "    \n",
    "    sentiment_score = response.document_sentiment.score\n",
    "    sentiment_magnitude = response.document_sentiment.magnitude\n",
    "    \n",
    "    scoreLIST.append(sentiment_score)\n",
    "    magnitudeLIST.append(sentiment_magnitude)\n",
    "    \n",
    "    print(i,\"ok\")"
   ]
  },
  {
   "cell_type": "code",
   "execution_count": null,
   "id": "fc81ad19-44dd-4f29-8595-1cd85362ff5e",
   "metadata": {},
   "outputs": [],
   "source": [
    "Cynes[\"Google_score\"] = scoreLIST\n",
    "Cynes[\"Google_magnitude\"] = magnitudeLIST"
   ]
  },
  {
   "cell_type": "code",
   "execution_count": null,
   "id": "0202751a-afc8-46b7-82f0-b3e8b36b2ba1",
   "metadata": {},
   "outputs": [],
   "source": [
    "Cynes.to_csv()"
   ]
  },
  {
   "cell_type": "markdown",
   "id": "bd16de7d-5a25-422f-b03d-8dc0536aba9a",
   "metadata": {},
   "source": [
    "# Spacy Embedding"
   ]
  },
  {
   "cell_type": "markdown",
   "id": "a72b2284-fbf5-469e-ac45-aeca54f01522",
   "metadata": {},
   "source": [
    "## A. Spacy Example"
   ]
  },
  {
   "cell_type": "code",
   "execution_count": null,
   "id": "a8b0e4f8-7fbc-42e9-bd21-b3b810d6ab21",
   "metadata": {},
   "outputs": [],
   "source": [
    "# conda install -c conda-forge spacy"
   ]
  },
  {
   "cell_type": "code",
   "execution_count": null,
   "id": "a31f6214-b6e5-41b0-9a75-65a57beff2ca",
   "metadata": {},
   "outputs": [],
   "source": [
    "# !python -m spacy download zh_core_web_md"
   ]
  },
  {
   "cell_type": "code",
   "execution_count": null,
   "id": "930bdba8-5ea6-41ea-9ec3-f27aeb6cea83",
   "metadata": {},
   "outputs": [],
   "source": [
    "nlp = spacy.load('zh_core_web_md')\n",
    "text = \"隨著北約各國逐漸將重型武器送往烏克蘭支援反攻，德國在送出豹一戰車\"\n",
    "nlp(text).vector"
   ]
  },
  {
   "cell_type": "markdown",
   "id": "d9e87ccb-1317-46c3-bb54-2094abde67b1",
   "metadata": {},
   "source": [
    "## B. Cynes embeding by Spacy"
   ]
  },
  {
   "cell_type": "code",
   "execution_count": null,
   "id": "2f5f6cfa-5299-4f26-b236-7336334aaf61",
   "metadata": {},
   "outputs": [],
   "source": [
    "nlp = spacy.load('zh_core_web_md')\n",
    "train_x_vectors = [nlp(text_).vector for text_ in Cynes['Content']]"
   ]
  },
  {
   "cell_type": "code",
   "execution_count": null,
   "id": "5279963b-8438-4a5e-87df-9bce82e76bd6",
   "metadata": {},
   "outputs": [],
   "source": [
    "Cynes[\"Spacy_vector\"] = train_x_vectors"
   ]
  },
  {
   "cell_type": "markdown",
   "id": "b7ee7941-d47d-4854-9c6e-eed8943e1241",
   "metadata": {},
   "source": [
    "# SVC Modelling"
   ]
  },
  {
   "cell_type": "markdown",
   "id": "88247c81-9df6-40fd-951e-a4702a50d426",
   "metadata": {},
   "source": [
    "以 Baidu 為例"
   ]
  },
  {
   "cell_type": "code",
   "execution_count": null,
   "id": "b7a306cd-bbb9-4dfa-bf1c-242751c0092b",
   "metadata": {},
   "outputs": [],
   "source": [
    "condlist = [Cynes[\"Sentiment\"] == 0,\n",
    "            Cynes[\"Sentiment\"] == 1, \n",
    "            Cynes[\"Sentiment\"] == 2]\n",
    "choicelist = [\"neg\", \"neu\", \"pos\"]\n",
    "Cynes[\"Sentiment_trans\"] = np.select(condlist, choicelist)\n",
    "Cynes"
   ]
  },
  {
   "cell_type": "code",
   "execution_count": null,
   "id": "af5d2341-aceb-426f-921b-e5e53f043301",
   "metadata": {},
   "outputs": [],
   "source": [
    "X_train, X_test, y_train, y_test = train_test_split(list(Cynes[\"Spacy_vector\"]), Cynes[\"Sentiment_trans\"], test_size=0.2, random_state=66)\n",
    "clf_svm = svm.SVC(kernel='linear', probability=True)  ## probability要打開 後續才能有預測機率序列\n",
    "clf_svm.fit(X_train, y_train)"
   ]
  },
  {
   "cell_type": "code",
   "execution_count": null,
   "id": "06fc4941-e953-4910-b5c0-6328465792c1",
   "metadata": {},
   "outputs": [],
   "source": [
    "accuracy_score(y_true = y_train,\n",
    "               y_pred = clf_svm.predict(X_train))"
   ]
  },
  {
   "cell_type": "code",
   "execution_count": null,
   "id": "9560fa63-93ab-452c-9da1-8f4a275448b9",
   "metadata": {},
   "outputs": [],
   "source": [
    "accuracy_score(y_true = y_test,\n",
    "               y_pred = clf_svm.predict(X_test))"
   ]
  },
  {
   "cell_type": "code",
   "execution_count": null,
   "id": "ccc815d6-60a4-452a-aa1b-d9e692f6f6b5",
   "metadata": {},
   "outputs": [],
   "source": [
    "##預測結果\n",
    "clf_svm.predict(X_test)"
   ]
  },
  {
   "cell_type": "code",
   "execution_count": null,
   "id": "ec0d4a34-3467-4048-9e1b-b2b27983f1ae",
   "metadata": {},
   "outputs": [],
   "source": [
    "##實際結果\n",
    "y_test"
   ]
  },
  {
   "cell_type": "code",
   "execution_count": null,
   "id": "6569f48a-3807-4068-8dc3-aa139d4f51c9",
   "metadata": {},
   "outputs": [],
   "source": [
    "##預測機率\n",
    "clf_svm.predict_proba(X_test)"
   ]
  },
  {
   "cell_type": "code",
   "execution_count": null,
   "id": "77845967-6596-48fd-b0a0-52c327ba68cb",
   "metadata": {},
   "outputs": [],
   "source": [
    "print(classification_report(y_true = y_test,\n",
    "                            y_pred = clf_svm.predict(X_test)))"
   ]
  },
  {
   "cell_type": "code",
   "execution_count": null,
   "id": "f6ebbe8f-bbf2-4091-b317-e061ec5ef02e",
   "metadata": {},
   "outputs": [],
   "source": [
    "# save the model to disk\n",
    "filename = 'svc_model.sav'\n",
    "pickle.dump(model, open(filename, 'wb'))"
   ]
  },
  {
   "cell_type": "code",
   "execution_count": null,
   "id": "fb56c239-7ebc-4494-a8ee-7f5689843a5d",
   "metadata": {},
   "outputs": [],
   "source": [
    "# # load the model from disk\n",
    "\n",
    "# loaded_model = pickle.load(open(filename, 'rb'))\n",
    "# result = loaded_model.score(X_test, Y_test)"
   ]
  }
 ],
 "metadata": {
  "kernelspec": {
   "display_name": "Python 3 (ipykernel)",
   "language": "python",
   "name": "python3"
  },
  "language_info": {
   "codemirror_mode": {
    "name": "ipython",
    "version": 3
   },
   "file_extension": ".py",
   "mimetype": "text/x-python",
   "name": "python",
   "nbconvert_exporter": "python",
   "pygments_lexer": "ipython3",
   "version": "3.8.13"
  }
 },
 "nbformat": 4,
 "nbformat_minor": 5
}
